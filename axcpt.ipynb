{
 "cells": [
  {
   "cell_type": "code",
   "execution_count": 2,
   "metadata": {},
   "outputs": [],
   "source": [
    "%load_ext autoreload\n",
    "%reload_ext autoreload\n",
    "%autoreload 2"
   ]
  },
  {
   "cell_type": "code",
   "execution_count": 3,
   "metadata": {},
   "outputs": [],
   "source": [
    "import sys\n",
    "import os\n",
    "import itertools\n",
    "import numpy as np\n",
    "import torch as tr\n",
    "import pandas as pd\n",
    "from matplotlib import pyplot as plt"
   ]
  },
  {
   "cell_type": "code",
   "execution_count": 31,
   "metadata": {},
   "outputs": [
    {
     "data": {
      "text/plain": [
       "(4, 2, 4)"
      ]
     },
     "execution_count": 31,
     "metadata": {},
     "output_type": "execute_result"
    }
   ],
   "source": [
    "NUM_STATES = 5\n",
    "class Task_AXCPT():\n",
    "    def __init__(self):\n",
    "        nstim,sdim = NUM_STATES,NUM_STATES\n",
    "        self.embed_mat = np.eye(nstim)\n",
    "        # sequence of states, rewarded action\n",
    "        self.trialL = np.array([\n",
    "            [[1,0,0,3],[0,0,0,1]],\n",
    "            [[1,0,0,4],[0,0,0,2]],\n",
    "            [[2,0,0,3],[0,0,0,2]],\n",
    "            [[2,0,0,4],[0,0,0,1]]\n",
    "        ])\n",
    "        return None\n",
    "      \n",
    "    def sample_trial(self):\n",
    "        ttype = np.random.choice(range(4))\n",
    "        tr_stim,At_plus = self.trialL[ttype] \n",
    "        tr_stim = self.embed_mat[tr_stim]\n",
    "        tr_stim = tr.Tensor(tr_stim).unsqueeze(1)\n",
    "        return tr_stim,At_plus\n",
    "      "
   ]
  },
  {
   "cell_type": "code",
   "execution_count": 5,
   "metadata": {},
   "outputs": [],
   "source": [
    "class Agent(tr.nn.Module):\n",
    "\n",
    "    def __init__(self):\n",
    "        super().__init__()\n",
    "        self.sdim = NUM_STATES\n",
    "        self.stsize = 6\n",
    "        self.nactions = 3\n",
    "        self._build()\n",
    "        return None\n",
    "\n",
    "    def _build(self):\n",
    "        self.in_layer = tr.nn.Linear(self.sdim,self.sdim)\n",
    "        self.lstm = tr.nn.LSTM(self.sdim,self.stsize)\n",
    "        self.init_lstm = tr.nn.Parameter(tr.rand(2,1,1,self.stsize),requires_grad=True)\n",
    "        self.value_out = tr.nn.Linear(self.stsize,1)\n",
    "        self.policy_out = tr.nn.Linear(self.stsize,self.nactions)\n",
    "        return None\n",
    "    \n",
    "    def forward(self,t_stim):\n",
    "        h = t_stim\n",
    "        h = self.in_layer(h)\n",
    "        h_lstm,c_lstm = self.init_lstm \n",
    "        h, (h_final,c_final) = self.lstm(h,(h_lstm,c_lstm))\n",
    "        vhat = self.value_out(h)\n",
    "        phat = self.policy_out(h)\n",
    "        return vhat,phat\n",
    "      \n",
    "    def update(self,rewards_tr,vhat_tr,prob_At):\n",
    "        returns_tr = rewards_tr\n",
    "        advantages_tr = vhat_tr - returns_tr \n",
    "        loss_v = self.mse_loss_op(vhat_tr,returns_tr)\n",
    "        loss = loss_v + (np.log(prob_At) * advantages_tr)\n",
    "        return loss"
   ]
  },
  {
   "cell_type": "code",
   "execution_count": 6,
   "metadata": {},
   "outputs": [],
   "source": [
    "ag = Agent()\n",
    "task = Task_AXCPT()\n",
    "mse_loss_op = tr.nn.MSELoss()\n",
    "optiop = tr.optim.Adam(ag.parameters(), lr=0.005)\n",
    "L = []\n",
    "for trial in range(1):\n",
    "\n",
    "  # trial \n",
    "  tr_stim,At_plus = task.sample_trial()\n",
    "\n",
    "  # forward prop\n",
    "  vhat_tr,phat_tr = ag(tr_stim)\n",
    "\n",
    "  # pi_trial is softmax vector for final action\n",
    "  pi_tr = phat_tr.softmax(2).squeeze()\n",
    "\n",
    "  # sample action\n",
    "  At = np.array([np.random.choice([0,1,2],p=pi_t) for pi_t in pi_tr.detach().numpy()])\n",
    "\n",
    "  # probability of action taken at each step\n",
    "  pr_At = pi_tr[np.arange(4),At]\n",
    "  \n",
    "  # emit reward\n",
    "  rplus,rminus = 1,-1\n",
    "  t0reward = 0\n",
    "  if At[-1] == At_plus[-1]:\n",
    "      rewards_tr = [t0reward,t0reward,t0reward,rplus]\n",
    "  else:\n",
    "      rewards_tr = [t0reward,t0reward,t0reward,rminus]\n",
    "  # \n",
    "  returns_tr = tr.Tensor(rewards_tr).reshape(4,1,1)\n",
    "  \n",
    "  # loss value \n",
    "  value_loss = mse_loss_op(vhat_tr,returns_tr)\n",
    "  # loss policy\n",
    "  policy_loss = (-1)*tr.sum(tr.log(pr_At)*tr.squeeze(returns_tr - vhat_tr))\n",
    "  # total loss\n",
    "  loss_tr = policy_loss + value_loss\n",
    "  \n",
    "  # optimizer step\n",
    "  optiop.zero_grad()\n",
    "  loss_tr.backward()\n",
    "  optiop.step()\n",
    "  L.append(returns_tr.sum())\n",
    "  "
   ]
  },
  {
   "cell_type": "code",
   "execution_count": 8,
   "metadata": {},
   "outputs": [
    {
     "data": {
      "text/plain": [
       "[<matplotlib.lines.Line2D at 0x12a8ad810>]"
      ]
     },
     "execution_count": 8,
     "metadata": {},
     "output_type": "execute_result"
    },
    {
     "data": {
      "image/png": "[encoded data removed]",
      "text/plain": [
       "<Figure size 432x288 with 1 Axes>"
      ]
     },
     "metadata": {
      "needs_background": "light"
     },
     "output_type": "display_data"
    }
   ],
   "source": [
    "plt.plot(np.array(L).reshape(1000,-1).sum(1))"
   ]
  },
  {
   "cell_type": "raw",
   "metadata": {},
   "source": [
    "- loss_value = (0.5) * tf.reduce_mean(tf.square(self.value_hat - self.returns_ph))\n",
    "\n",
    "- pi_a = tf.reduce_sum(self.policy * self.actions_t_onehot,axis=-1)\n",
    "- loss_policy = (-1) * tf.reduce_mean(tf.log(self.pi_a) * self.advantages_ph)\n",
    "\n",
    "- entropy = (-1) * tf.reduce_sum(self.policy * tf.log(self.policy+1e-7),axis=-1)\n",
    "- loss_entropy = (-1) * tf.reduce_mean(self.entropy)\n",
    "\n",
    "- loss = self.loss_policy + (0.05)*self.loss_value + (0.01)*self.loss_entropy"
   ]
  },
  {
   "cell_type": "markdown",
   "metadata": {},
   "source": [
    "### 3. The actor-critic loss [reference](https://www.tensorflow.org/tutorials/reinforcement_learning/actor_critic)\n",
    "\n",
    "Since we are using a hybrid actor-critic model, we will use loss function that is a combination of actor and critic losses for training, as shown below:\n",
    "\n",
    "$$L = L_{actor} + L_{critic}$$\n",
    "\n",
    "#### Actor loss\n",
    "\n",
    "We formulate the actor loss based on [policy gradients with the critic as a state dependent baseline](https://www.youtube.com/watch?v=EKqxumCuAAY&t=62m23s) and compute single-sample (per-episode) estimates.\n",
    "\n",
    "$$L_{actor} = -\\sum^{T}_{t=1} log\\pi_{\\theta}(a_{t} | s_{t})[G(s_{t}, a_{t})  - V^{\\pi}_{\\theta}(s_{t})]$$\n",
    "\n",
    "where:\n",
    "- $T$: the number of timesteps per episode, which can vary per episode\n",
    "- $s_{t}$: the state at timestep $t$\n",
    "- $a_{t}$: chosen action at timestep $t$ given state $s$\n",
    "- $\\pi_{\\theta}$: is the policy (actor) parameterized by $\\theta$\n",
    "- $V^{\\pi}_{\\theta}$: is the value function (critic) also parameterized by $\\theta$\n",
    "- $G = G_{t}$: the expected return for a given state, action pair at timestep $t$\n",
    "\n",
    "We add a negative term to the sum since we want to maximize the probabilities of actions yielding higher rewards by minimizing the combined loss.\n",
    "\n",
    "<br>\n",
    "\n",
    "##### Advantage\n",
    "\n",
    "The $G - V$ term in our $L_{actor}$ formulation is called the [advantage](https://spinningup.openai.com/en/latest/spinningup/rl_intro.html#advantage-functions), which indicates how much better an action is given a particular state over a random action selected according to the policy $\\pi$ for that state.\n",
    "\n",
    "While it's possible to exclude a baseline, this may result in high variance during training. And the nice thing about choosing the critic $V$ as a baseline is that it trained to be as close as possible to $G$, leading to a lower variance.\n",
    "\n",
    "In addition, without the critic, the algorithm would try to increase probabilities for actions taken on a particular state based on expected return, which may not make much of a difference if the relative probabilities between actions remain the same.\n",
    "\n",
    "For instance, suppose that two actions for a given state would yield the same expected return. Without the critic, the algorithm would try to raise the probability of these actions based on the objective $J$. With the critic, it may turn out that there's no advantage ($G - V = 0$) and thus no benefit gained in increasing the actions' probabilities and the algorithm would set the gradients to zero.\n",
    "\n",
    "<br>\n",
    "\n",
    "#### Critic loss\n",
    "\n",
    "Training $V$ to be as close possible to $G$ can be set up as a regression problem with the following loss function:\n",
    "\n",
    "$$L_{critic} = L_{\\delta}(G, V^{\\pi}_{\\theta})$$\n",
    "\n",
    "where $L_{\\delta}$ is the [Huber loss](https://en.wikipedia.org/wiki/Huber_loss), which is less sensitive to outliers in data than squared-error loss.\n"
   ]
  }
 ],
 "metadata": {
  "kernelspec": {
   "display_name": "Python 3",
   "language": "python",
   "name": "python3"
  },
  "language_info": {
   "codemirror_mode": {
    "name": "ipython",
    "version": 3
   },
   "file_extension": ".py",
   "mimetype": "text/x-python",
   "name": "python",
   "nbconvert_exporter": "python",
   "pygments_lexer": "ipython3",
   "version": "3.7.3"
  }
 },
 "nbformat": 4,
 "nbformat_minor": 4
}
