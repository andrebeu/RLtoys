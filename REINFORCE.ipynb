{
 "cells": [
  {
   "cell_type": "markdown",
   "id": "7b3b9897",
   "metadata": {},
   "source": [
    "# explicit implementation of REINFORCE on short corridor switched actions"
   ]
  },
  {
   "cell_type": "markdown",
   "id": "f67f9cd3",
   "metadata": {},
   "source": [
    "### softmax in action preferences, with preferences linear in features\n",
    "\n",
    "- preferences linear in features\n",
    "\n",
    "$h(s,a,\\theta) = \\theta^Tx(s,a)$ \n",
    "- state,action features\n",
    "\n",
    "$x(s,right)=[0,1]^T$ and $x(s,left)=[1,0]^T$ for all s"
   ]
  },
  {
   "cell_type": "markdown",
   "id": "31a1a95d",
   "metadata": {},
   "source": [
    "- policy gradient episodic case performance\n",
    "\n",
    "$J(\\theta) = v_{\\pi_\\theta}(s_0) $"
   ]
  },
  {
   "cell_type": "markdown",
   "id": "bce2e0f2",
   "metadata": {},
   "source": [
    "#### REINFORCE: Monte Carlo Policy Gradient\n",
    "1 ) generate episode\n",
    "\n",
    "2 ) loop over each timestep \n",
    "- compute return $G_t = \\sum_{k=t}^T \\gamma^{k-t-1} r_k $\n",
    "- update $ \\theta_{t+1} = \\theta_{t} + \\alpha \\gamma^t G_t \\nabla ln \\space \\pi (A_t|S_t,\\theta)$"
   ]
  },
  {
   "cell_type": "code",
   "execution_count": 1,
   "id": "14d55d52",
   "metadata": {},
   "outputs": [],
   "source": [
    "import numpy as np\n",
    "from matplotlib import pyplot as plt"
   ]
  },
  {
   "cell_type": "markdown",
   "id": "d6ee21be",
   "metadata": {},
   "source": [
    "### short corridor with switched actions"
   ]
  },
  {
   "cell_type": "code",
   "execution_count": 2,
   "id": "8d256155",
   "metadata": {},
   "outputs": [],
   "source": [
    "class Env():\n",
    "  def __init__(self):\n",
    "    self.st = 0\n",
    "    self.t = 0\n",
    "    self.maxt = 1000\n",
    "    None\n",
    "    \n",
    "  def __call__(self,action):\n",
    "    if self.st == 0:\n",
    "      if action:\n",
    "        stp = 1\n",
    "      else:\n",
    "        stp = 0\n",
    "    elif self.st == 1:\n",
    "      if action:\n",
    "        stp = 0\n",
    "      else:\n",
    "        stp = 2\n",
    "    elif self.st == 2:\n",
    "      if action:\n",
    "        stp = 3\n",
    "      else:\n",
    "        stp = 1\n",
    "    # update internal state\n",
    "    self.st = stp\n",
    "    reward = -1 \n",
    "    self.t += 1\n",
    "    if self.t >= self.maxt:\n",
    "      done = True\n",
    "    elif stp == 3:\n",
    "      done = True\n",
    "    else:\n",
    "      done = False\n",
    "    return stp,reward,done\n",
    "  "
   ]
  },
  {
   "cell_type": "code",
   "execution_count": 3,
   "id": "ba0f8e21",
   "metadata": {},
   "outputs": [
    {
     "data": {
      "text/plain": [
       "array([-3., -2., -1.])"
      ]
     },
     "execution_count": 3,
     "metadata": {},
     "output_type": "execute_result"
    }
   ],
   "source": [
    "def compute_returns(rewards,gamma=1.0):\n",
    "    \"\"\" \n",
    "    given rewards, compute discounted return\n",
    "    G_t = sum_k [g^k * r(t+k)]; k=0...T-t\n",
    "    \"\"\" \n",
    "    T = len(rewards) \n",
    "    returns = np.array([\n",
    "        np.sum(np.array(\n",
    "            rewards[t:])*np.array(\n",
    "            [gamma**i for i in range(T-t)]\n",
    "        )) for t in range(T)\n",
    "    ])\n",
    "    return returns\n",
    "compute_returns([-1,-1,-1])"
   ]
  },
  {
   "cell_type": "code",
   "execution_count": 4,
   "id": "c4bfcfd9",
   "metadata": {},
   "outputs": [
    {
     "data": {
      "text/plain": [
       "array([ 0.99330715, -0.99330715])"
      ]
     },
     "execution_count": 4,
     "metadata": {},
     "output_type": "execute_result"
    }
   ],
   "source": [
    "sm_policy = lambda theta: np.exp(theta[1]) / np.sum(np.exp(theta))\n",
    "\n",
    "\n",
    "class Agent():\n",
    "  def __init__(self):\n",
    "    self.theta = np.array([0,5])\n",
    "    self.alpha = 2**-13\n",
    "    self.gamma = 1.0\n",
    "    return None\n",
    "  \n",
    "  def act(self):\n",
    "    pr_right = sm_policy(self.theta)\n",
    "    action = np.random.binomial(1,pr_right)\n",
    "    return action\n",
    "  \n",
    "  def update(self,actions,rewards):\n",
    "    \"\"\" \"\"\"\n",
    "    returns = compute_returns(rewards,gamma=1.0)\n",
    "    L = []\n",
    "    for At,Gt in zip(actions,returns):\n",
    "      glp = self.compute_grad_ln_pi(At)\n",
    "      self.theta = self.theta + self.alpha*Gt*glp\n",
    "    return None\n",
    "    \n",
    "  def compute_grad_ln_pi(self,action):\n",
    "    hR = np.array([0,1])\n",
    "    hL = np.array([1,0])\n",
    "    if action: \n",
    "      h = hR\n",
    "    else:\n",
    "      h = hL\n",
    "    pr_right = sm_policy(self.theta)\n",
    "    expectation = pr_right*hR + (1-pr_right)*hL \n",
    "    return h - expectation\n",
    "      \n",
    "a = Agent()\n",
    "a.compute_grad_ln_pi(0)\n"
   ]
  },
  {
   "cell_type": "markdown",
   "id": "2e0b00a8",
   "metadata": {},
   "source": [
    "- computing gradient of log-softmax [stack exchange](https://math.stackexchange.com/questions/2013050/log-of-softmax-function-derivative)\n",
    "\n",
    "$ \\nabla_\\theta ln\\space \\pi(s,a) = \\phi(a) - E_\\pi [\\phi(s,.)]  = \\phi(s,a) - ( \\pi(right|s)\\phi(right,s)  +\\pi(left|s)\\phi(left,s)) $"
   ]
  },
  {
   "cell_type": "code",
   "execution_count": 5,
   "id": "25caaca0",
   "metadata": {
    "scrolled": true
   },
   "outputs": [],
   "source": [
    "ns = 5\n",
    "neps = 1000\n",
    "score = np.zeros((ns,neps))\n",
    "\n",
    "for seed in range(ns):\n",
    "  agent = Agent()\n",
    "  # episode loop\n",
    "  for ep in range(neps):\n",
    "    env = Env()\n",
    "    # trial loop\n",
    "    done = False\n",
    "    at = 0\n",
    "    A = []\n",
    "    R = []\n",
    "    while not done:\n",
    "      st,reward,done = env(at)\n",
    "      at = agent.act()\n",
    "      # collect reward\n",
    "      A.append(at)\n",
    "      R.append(reward)\n",
    "      # update\n",
    "    agent.update(A,R)\n",
    "    score[seed,ep] = np.sum(R)\n"
   ]
  },
  {
   "cell_type": "code",
   "execution_count": 6,
   "id": "ad0315a6",
   "metadata": {},
   "outputs": [
    {
     "data": {
      "text/plain": [
       "[<matplotlib.lines.Line2D at 0x1176acfd0>]"
      ]
     },
     "execution_count": 6,
     "metadata": {},
     "output_type": "execute_result"
    },
    {
     "data": {
      "image/png": "[encoded data removed]",
      "text/plain": [
       "<Figure size 432x288 with 1 Axes>"
      ]
     },
     "metadata": {
      "needs_background": "light"
     },
     "output_type": "display_data"
    }
   ],
   "source": [
    "plt.plot(score.mean(0))"
   ]
  },
  {
   "cell_type": "markdown",
   "id": "fb90c916",
   "metadata": {},
   "source": [
    "# notes on replication issues\n",
    "- initially, I set episode max length to 100\n",
    "    - I did this because I the book figure doesnt go below -100\n",
    "- additionally, when generating the figure was doing at most 1000 episodes\n",
    "    - again, I did this because the book figure seemed to assymptote around ep 500\n",
    "- however,the number of updates made by the REINFORCE algorithm is proportional to episode length in this task\n",
    "- the first hint came when I realized I could train from greedy to optimal in 10x more episodes\n",
    "    - making max episode length 1000 helps\n",
    "    - this implementation [git](https://github.com/ShangtongZhang/reinforcement-learning-an-introduction/blob/master/chapter13/short_corridor.py) does not set a max number of trials per episode, but instead hard codes an edgecase where softmax is not allowed to saturate on greedy. "
   ]
  }
 ],
 "metadata": {
  "kernelspec": {
   "display_name": "Python 3",
   "language": "python",
   "name": "python3"
  },
  "language_info": {
   "codemirror_mode": {
    "name": "ipython",
    "version": 3
   },
   "file_extension": ".py",
   "mimetype": "text/x-python",
   "name": "python",
   "nbconvert_exporter": "python",
   "pygments_lexer": "ipython3",
   "version": "3.7.10"
  }
 },
 "nbformat": 4,
 "nbformat_minor": 5
}
