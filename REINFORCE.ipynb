{
 "cells": [
  {
   "cell_type": "markdown",
   "id": "7b3b9897",
   "metadata": {},
   "source": [
    "# REINFORCE on short corridor switched actions (Sutton & Barto Ch 13)"
   ]
  },
  {
   "cell_type": "markdown",
   "id": "bce2e0f2",
   "metadata": {},
   "source": [
    "## REINFORCE: Monte Carlo Policy Gradient\n",
    "1 ) generate episode\n",
    "\n",
    "2 ) loop over each timestep \n",
    "- compute return $G_t = \\sum_{k=t}^T \\gamma^{k-t-1} r_k $\n",
    "- calculate baselined target $\\delta_t = G_t - \\hat{v}(s;w) $\n",
    "- update value weights $ w_{t+1} = w_t + \\alpha_w \\delta_t \\nabla_w \\hat{v}(s;w) $ \n",
    "- update policy theta $ \\theta_{t+1} = \\theta_{t} + \\alpha_\\theta \\gamma^t \\delta_t \\nabla_\\theta ln \\space \\pi (A_t|S_t;\\theta)$"
   ]
  },
  {
   "cell_type": "markdown",
   "id": "f67f9cd3",
   "metadata": {},
   "source": [
    "## policy\n",
    "- softmax in action preferences\n",
    "\n",
    "$ \\pi (A_t | S_t, \\theta) = softmax(h(s,a,\\theta) $\n",
    "\n",
    "- preferences linear in features\n",
    "\n",
    "$h(s,a,\\theta) = \\theta^Tx(s,a)$ \n",
    "\n",
    "- for this exercise, state,action features are: \n",
    "\n",
    "$\\phi(s,right)=[0,1]^T$ and $\\phi(s,left)=[1,0]^T$ for all s\n",
    "\n",
    "##### this setup is inteded to show that policy gradient can learn an optimal stochastic policy (parametrized as a softmax in action preferences) \n",
    "\n",
    "- additionally, use simple value estimate for baseline\n",
    "\n",
    "$ \\hat{v}(s;w) = w $"
   ]
  },
  {
   "cell_type": "markdown",
   "id": "2e0b00a8",
   "metadata": {},
   "source": [
    "#### computing gradient of log-softmax [stack exchange](https://math.stackexchange.com/questions/2013050/log-of-softmax-function-derivative)\n",
    "\n",
    "$ \\nabla_\\theta ln\\space \\pi(s,a) = \\phi(a) - E_\\pi [\\phi(s,.)]  = \\phi(s,a) - ( \\pi(right|s)\\phi(right,s)  +\\pi(left|s)\\phi(left,s)) $\n"
   ]
  },
  {
   "cell_type": "code",
   "execution_count": 1,
   "id": "14d55d52",
   "metadata": {},
   "outputs": [],
   "source": [
    "import numpy as np\n",
    "from matplotlib import pyplot as plt"
   ]
  },
  {
   "cell_type": "markdown",
   "id": "d6ee21be",
   "metadata": {},
   "source": [
    "# env: short corridor with switched actions"
   ]
  },
  {
   "cell_type": "code",
   "execution_count": 2,
   "id": "8d256155",
   "metadata": {},
   "outputs": [],
   "source": [
    "class Env():\n",
    "  def __init__(self):\n",
    "    self.st = 0\n",
    "    self.t = 0\n",
    "    ## free param\n",
    "    self.maxt = 100 \n",
    "    None\n",
    "    \n",
    "  def __call__(self,action):\n",
    "    if self.st == 0:\n",
    "      if action:\n",
    "        stp = 1\n",
    "      else:\n",
    "        stp = 0\n",
    "    elif self.st == 1:\n",
    "      if action:\n",
    "        stp = 0\n",
    "      else:\n",
    "        stp = 2\n",
    "    elif self.st == 2:\n",
    "      if action:\n",
    "        stp = 3\n",
    "      else:\n",
    "        stp = 1\n",
    "    # update internal state\n",
    "    self.st = stp\n",
    "    reward = -1 \n",
    "    self.t += 1\n",
    "    if self.t >= self.maxt:\n",
    "      done = True\n",
    "    elif stp == 3:\n",
    "      done = True\n",
    "    else:\n",
    "      done = False\n",
    "    return stp,reward,done\n",
    "\n",
    "## helper\n",
    "def compute_returns(rewards,gamma=1.0):\n",
    "    \"\"\" \n",
    "    given rewards, compute discounted return\n",
    "    G_t = sum_k [g^k * r(t+k)]; k=0...T-t\n",
    "    \"\"\" \n",
    "    T = len(rewards) \n",
    "    returns = np.array([\n",
    "        np.sum(np.array(\n",
    "            rewards[t:])*np.array(\n",
    "            [gamma**i for i in range(T-t)]\n",
    "        )) for t in range(T)\n",
    "    ])\n",
    "    return returns"
   ]
  },
  {
   "cell_type": "markdown",
   "id": "64c78406",
   "metadata": {},
   "source": [
    "# agent"
   ]
  },
  {
   "cell_type": "code",
   "execution_count": 3,
   "id": "c4bfcfd9",
   "metadata": {},
   "outputs": [],
   "source": [
    "sm_policy = lambda theta: np.exp(theta[1]) / np.sum(np.exp(theta))\n",
    "\n",
    "\n",
    "class Agent():\n",
    "  \n",
    "  def __init__(self,alfa,bmode):\n",
    "    # init agent params\n",
    "    self.theta = np.array([0,5])\n",
    "    self.vweights = 0\n",
    "    # learning rate\n",
    "    self.alpha_pi = alfa[0]\n",
    "    self.alpha_val = alfa[1]\n",
    "    # \n",
    "    self.baseline = self._get_baseline(bmode)\n",
    "    return None\n",
    "  \n",
    "  def _get_baseline(self,bmode):\n",
    "    if type(bmode)==type(None):\n",
    "      return lambda x: 0\n",
    "    if bmode=='value':\n",
    "      return lambda s: self.vweights\n",
    "    \n",
    "  def _compute_grad_ln_pi(self,action):\n",
    "    hR = np.array([0,1])\n",
    "    hL = np.array([1,0])\n",
    "    if action: h = hR\n",
    "    else: h = hL\n",
    "    pr_right = sm_policy(self.theta)\n",
    "    expectation = pr_right*hR + (1-pr_right)*hL \n",
    "    return h - expectation\n",
    "  \n",
    "  def act(self,epsilon=0.05):\n",
    "    pr_right = sm_policy(self.theta)\n",
    "    action = np.random.binomial(1,pr_right)\n",
    "    return action\n",
    "  \n",
    "  def update(self,states,actions,rewards):\n",
    "    returns = compute_returns(rewards)\n",
    "    L = []\n",
    "    for St,At,Gt in zip(states,actions,returns):\n",
    "      delta = Gt - self.baseline(St)\n",
    "      # value update\n",
    "      self.vweights = self.vweights + self.alpha_val*delta*1\n",
    "      # policy update\n",
    "      glp = self._compute_grad_ln_pi(At)\n",
    "      self.theta = self.theta + self.alpha_pi*delta*glp\n",
    "    return None \n",
    "    \n"
   ]
  },
  {
   "cell_type": "markdown",
   "id": "3f0b77b8",
   "metadata": {},
   "source": [
    "# run"
   ]
  },
  {
   "cell_type": "code",
   "execution_count": 4,
   "id": "25caaca0",
   "metadata": {
    "scrolled": true
   },
   "outputs": [],
   "source": [
    "def run_experiment(ns,neps,kw):\n",
    "  \"\"\" \n",
    "  REINFORCE agent-environment logic\n",
    "  \"\"\"\n",
    "  score = np.zeros((ns,neps))\n",
    "  for seed in range(ns):\n",
    "    agent = Agent(**kw)\n",
    "    # episode loop\n",
    "    for ep in range(neps):\n",
    "      env = Env()\n",
    "      # trial loop\n",
    "      done = False\n",
    "      at,stp = 0,0\n",
    "      A = []\n",
    "      R = []\n",
    "      S = []\n",
    "      while not done:\n",
    "        st = stp\n",
    "        S.append(st)\n",
    "        stp,reward,done = env(at)\n",
    "        at = agent.act()\n",
    "        A.append(at)\n",
    "        R.append(reward)\n",
    "      # update\n",
    "      agent.update(S,A,R)\n",
    "      score[seed,ep] = np.sum(R)\n",
    "  \n",
    "  return score\n"
   ]
  },
  {
   "cell_type": "markdown",
   "id": "37be8842",
   "metadata": {},
   "source": [
    "### learning rate experiment\n",
    "- without baseline"
   ]
  },
  {
   "cell_type": "code",
   "execution_count": 5,
   "id": "ad0315a6",
   "metadata": {},
   "outputs": [
    {
     "data": {
      "text/plain": [
       "<matplotlib.legend.Legend at 0x10edce690>"
      ]
     },
     "execution_count": 5,
     "metadata": {},
     "output_type": "execute_result"
    },
    {
     "data": {
      "image/png": "[encoded data removed]",
      "text/plain": [
       "<Figure size 432x288 with 1 Axes>"
      ]
     },
     "metadata": {
      "needs_background": "light"
     },
     "output_type": "display_data"
    }
   ],
   "source": [
    "ns,neps = 50,1000\n",
    "L = [-12,-13,-14]\n",
    "\n",
    "kwargs = {'bmode':None}\n",
    "\n",
    "for a in L:\n",
    "  kwargs['alfa'] = [2**a,0]\n",
    "  score = run_experiment(ns,neps,kwargs)\n",
    "  plt.plot(score.mean(0),label='alpha=2^%i'%a)\n",
    "plt.legend()"
   ]
  },
  {
   "cell_type": "markdown",
   "id": "bc53d89e",
   "metadata": {},
   "source": [
    "### baseline experiment"
   ]
  },
  {
   "cell_type": "code",
   "execution_count": 6,
   "id": "4c9ce6ad",
   "metadata": {},
   "outputs": [
    {
     "data": {
      "text/plain": [
       "<matplotlib.legend.Legend at 0x10eefd3d0>"
      ]
     },
     "execution_count": 6,
     "metadata": {},
     "output_type": "execute_result"
    },
    {
     "data": {
      "image/png": "[encoded data removed]",
      "text/plain": [
       "<Figure size 432x288 with 1 Axes>"
      ]
     },
     "metadata": {
      "needs_background": "light"
     },
     "output_type": "display_data"
    }
   ],
   "source": [
    "ns,neps = 50,1000\n",
    "\n",
    "aL = [[2**-12,0],[2**-9,2**-6]]\n",
    "mL = [None,'value']\n",
    "\n",
    "for alfa,bmode in zip(aL,mL):\n",
    "  kwargs = {'alfa':alfa,'bmode':bmode}\n",
    "  score = run_experiment(ns,neps,kwargs)\n",
    "  plt.plot(score.mean(0),label='baseline %s'%bmode)\n",
    "plt.legend()"
   ]
  },
  {
   "cell_type": "markdown",
   "id": "fb90c916",
   "metadata": {},
   "source": [
    "# notes on replication issues\n",
    "### initializing gamma\n",
    "- if initialized to zero vector, the policy is close to optimal, so training shows little/no signs of improvement\n",
    "\n",
    "### number of updates correlated with episode length\n",
    "- initially, I set episode max length to 100\n",
    "    - I did this because I the book figure doesnt go below -100\n",
    "- additionally, when generating the figure was doing at most 1000 episodes\n",
    "    - again, I did this because the book figure seemed to assymptote around ep 500\n",
    "- however,the number of updates made by REINFORCE is proportional to episode length in this task\n",
    "- the first hint came when I realized I could train from greedy to optimal in 10x more episodes\n",
    "    - making max episode length 1000 helps\n",
    "    - this implementation [git](https://github.com/ShangtongZhang/reinforcement-learning-an-introduction/blob/master/chapter13/short_corridor.py) does not set a max number of trials per episode, but instead hard codes an edgecase where softmax is not allowed to saturate on greedy. \n",
    "    \n",
    "### baseline value function\n",
    "- initially i thought to intitialize a vector of zeros, one for each state. \n",
    "    - but this caused instability after episode 50-100 or so\n",
    "    - i think because the state after the crossed actions is seldom visited\n",
    "        - later in training, when that state is more often visited, the estimate will be off \n",
    "       \n",
    " "
   ]
  }
 ],
 "metadata": {
  "kernelspec": {
   "display_name": "Python 3",
   "language": "python",
   "name": "python3"
  },
  "language_info": {
   "codemirror_mode": {
    "name": "ipython",
    "version": 3
   },
   "file_extension": ".py",
   "mimetype": "text/x-python",
   "name": "python",
   "nbconvert_exporter": "python",
   "pygments_lexer": "ipython3",
   "version": "3.7.10"
  }
 },
 "nbformat": 4,
 "nbformat_minor": 5
}
